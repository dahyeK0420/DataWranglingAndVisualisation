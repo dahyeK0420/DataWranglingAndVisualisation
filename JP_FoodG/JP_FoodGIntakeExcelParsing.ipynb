{
 "cells": [
  {
   "cell_type": "code",
   "execution_count": 1,
   "metadata": {},
   "outputs": [],
   "source": [
    "import pandas as pd \n",
    "import xlrd \n",
    "import os \n",
    "import re "
   ]
  },
  {
   "cell_type": "code",
   "execution_count": 10,
   "metadata": {},
   "outputs": [],
   "source": [
    "def turningTable(age,meanCols,eachFile, df): \n",
    "    parsedDF = df.iloc[1:, meanCols]\n",
    "    parsedDF.columns = ['Nutrition'] + age\n",
    "    tempTB = parsedDF.T\n",
    "    tempTB.reset_index(inplace = True)\n",
    "    tempTB.columns = tempTB.iloc[0].apply(lambda x: re.sub(\"[\\u3000\\t\\n]+\", \"\", x).rstrip())\n",
    "    tempTB.drop(tempTB.index[0], inplace = True)\n",
    "    tempTB.rename(columns = {'Nutrition':'age'}, inplace = True)\n",
    "    tempTB['year'] = re.findall('_(\\d+)',eachFile)[0]\n",
    "    \n",
    "    if re.findall('total', eachFile):\n",
    "        tempTB['gender'] = 'All'\n",
    "    elif re.findall('female', eachFile): \n",
    "        tempTB['gender'] = 'Female'\n",
    "    else: \n",
    "        tempTB['gender'] = 'Male'\n",
    "    return tempTB"
   ]
  },
  {
   "cell_type": "code",
   "execution_count": 11,
   "metadata": {},
   "outputs": [],
   "source": [
    "df_2017 = {fileName for fileName in os.listdir() if re.findall('_2017.xlsx',fileName)}"
   ]
  },
  {
   "cell_type": "code",
   "execution_count": 12,
   "metadata": {},
   "outputs": [
    {
     "data": {
      "text/plain": [
       "{'jp_FoodG_female_2017.xlsx',\n",
       " 'jp_FoodG_male_2017.xlsx',\n",
       " 'jp_FoodG_total_2017.xlsx'}"
      ]
     },
     "execution_count": 12,
     "metadata": {},
     "output_type": "execute_result"
    }
   ],
   "source": [
    "df_2017"
   ]
  },
  {
   "cell_type": "code",
   "execution_count": 13,
   "metadata": {},
   "outputs": [],
   "source": [
    "jp_2017 = list()\n",
    "\n",
    "for eachFile in df_2017: \n",
    "    \n",
    "    df = pd.ExcelFile(eachFile).parse(0)\n",
    "    age = list(df.iloc[4,3:].dropna())\n",
    "    df.dropna(thresh = 20, inplace = True)\n",
    "    meanCols =[0]+[i for i in range(5,df.shape[1], 3)]\n",
    "        \n",
    "    jp_2017.append(turningTable(age,meanCols,eachFile, df))"
   ]
  },
  {
   "cell_type": "code",
   "execution_count": 14,
   "metadata": {},
   "outputs": [],
   "source": [
    "jp_2017DF = pd.concat(jp_2017)"
   ]
  },
  {
   "cell_type": "code",
   "execution_count": 16,
   "metadata": {},
   "outputs": [
    {
     "data": {
      "text/plain": [
       "Index(['age', '総量', '動物性食品', '植物性食品', '穀類', '米・加工品', '米', '米加工品', '小麦・加工品',\n",
       "       '小麦粉類',\n",
       "       ...\n",
       "       '調味料', 'ソース', 'しょうゆ', '塩', 'マヨネ－ズ', '味噌', 'その他の調味料', '香辛料・その他', 'year',\n",
       "       'gender'],\n",
       "      dtype='object', name=0, length=134)"
      ]
     },
     "execution_count": 16,
     "metadata": {},
     "output_type": "execute_result"
    }
   ],
   "source": [
    "jp_2017DF.columns"
   ]
  },
  {
   "cell_type": "code",
   "execution_count": 17,
   "metadata": {},
   "outputs": [],
   "source": [
    "df_else = tuple(fileName for fileName in os.listdir() if re.findall('201[3-6]',fileName))"
   ]
  },
  {
   "cell_type": "code",
   "execution_count": 18,
   "metadata": {},
   "outputs": [],
   "source": [
    "jp_else = list()\n",
    "\n",
    "for eachFile in df_else: \n",
    "    df = pd.ExcelFile(eachFile).parse(0)\n",
    "    age = list(df.iloc[4,5:].dropna())\n",
    "    df.dropna(thresh = 20, inplace = True)\n",
    "    meanCols =[0]+[i for i in range(5,df.shape[1], 3)]\n",
    "        \n",
    "    jp_else.append(turningTable(age,meanCols,eachFile, df))"
   ]
  },
  {
   "cell_type": "code",
   "execution_count": 19,
   "metadata": {},
   "outputs": [],
   "source": [
    "jp_elseDF = pd.concat(jp_else)"
   ]
  },
  {
   "cell_type": "code",
   "execution_count": 20,
   "metadata": {},
   "outputs": [],
   "source": [
    "df_2011 = tuple(fileName for fileName in os.listdir() if re.findall('2011',fileName))"
   ]
  },
  {
   "cell_type": "code",
   "execution_count": 21,
   "metadata": {},
   "outputs": [],
   "source": [
    "jp_2011 = list()\n",
    "\n",
    "for eachFile in df_2011: \n",
    "    df = pd.ExcelFile(eachFile).parse(0)\n",
    "    age = list(df.iloc[4,4:].dropna())\n",
    "    df.dropna(thresh = 20, inplace = True)\n",
    "    meanCols =[0]+[i for i in range(4,df.shape[1], 2)]\n",
    "    \n",
    "    jp_2011.append(turningTable(age,meanCols,eachFile, df))"
   ]
  },
  {
   "cell_type": "code",
   "execution_count": 22,
   "metadata": {},
   "outputs": [],
   "source": [
    "jp_2011DF = pd.concat(jp_2011)"
   ]
  },
  {
   "cell_type": "code",
   "execution_count": 23,
   "metadata": {},
   "outputs": [],
   "source": [
    "df_2012 = tuple(fileName for fileName in os.listdir() if re.findall('2012',fileName))\n",
    "jp_2012 = list()\n",
    "\n",
    "for eachFile in df_2012: \n",
    "    \n",
    "    df = pd.ExcelFile(eachFile).parse(0)\n",
    "    \n",
    "    age = list(df.iloc[5,5:].dropna())\n",
    "    df.dropna(thresh = 20, inplace = True)\n",
    "    meanCols =[0]+[i for i in range(5,df.shape[1], 3)]\n",
    "        \n",
    "    jp_2012.append(turningTable(age,meanCols,eachFile, df))"
   ]
  },
  {
   "cell_type": "code",
   "execution_count": 24,
   "metadata": {},
   "outputs": [],
   "source": [
    "jp_2012DF = pd.concat(jp_2012)"
   ]
  },
  {
   "cell_type": "code",
   "execution_count": 51,
   "metadata": {},
   "outputs": [
    {
     "name": "stdout",
     "output_type": "stream",
     "text": [
      "132\n"
     ]
    }
   ],
   "source": [
    "for i,x in enumerate(jp_2011DF.columns): \n",
    "    if x not in jp_2012DF.columns: \n",
    "        print(i)"
   ]
  },
  {
   "cell_type": "code",
   "execution_count": 55,
   "metadata": {},
   "outputs": [],
   "source": [
    "jp_2011DF.drop(jp_2011DF.columns[132], axis = 1, inplace = True)"
   ]
  },
  {
   "cell_type": "code",
   "execution_count": 56,
   "metadata": {},
   "outputs": [],
   "source": [
    "a = jp_2012DF.append(jp_elseDF)\n",
    "b = a.append(jp_2011DF)\n",
    "finalTB = b.append(jp_2017DF)"
   ]
  },
  {
   "cell_type": "code",
   "execution_count": 57,
   "metadata": {},
   "outputs": [],
   "source": [
    "finalTB.to_csv('JP_FoodG.csv', index = False)"
   ]
  }
 ],
 "metadata": {
  "kernelspec": {
   "display_name": "Python 3",
   "language": "python",
   "name": "python3"
  },
  "language_info": {
   "codemirror_mode": {
    "name": "ipython",
    "version": 3
   },
   "file_extension": ".py",
   "mimetype": "text/x-python",
   "name": "python",
   "nbconvert_exporter": "python",
   "pygments_lexer": "ipython3",
   "version": "3.7.6"
  }
 },
 "nbformat": 4,
 "nbformat_minor": 4
}

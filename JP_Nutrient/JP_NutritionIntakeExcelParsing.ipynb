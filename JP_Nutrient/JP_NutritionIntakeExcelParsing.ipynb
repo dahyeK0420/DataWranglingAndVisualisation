{
 "cells": [
  {
   "cell_type": "code",
   "execution_count": 75,
   "metadata": {},
   "outputs": [],
   "source": [
    "import pandas as pd \n",
    "import xlrd \n",
    "import os \n",
    "import re \n",
    "import numpy as np"
   ]
  },
  {
   "cell_type": "code",
   "execution_count": 76,
   "metadata": {},
   "outputs": [],
   "source": [
    "def turningTable(age,meanCols,eachFile, df): \n",
    "    parsedDF = df.iloc[1:, meanCols]\n",
    "    parsedDF.columns = ['Nutrition'] + age\n",
    "    tempTB = parsedDF.T\n",
    "    tempTB.reset_index(inplace = True)\n",
    "    tempTB.columns = tempTB.iloc[0].apply(lambda x: re.sub(\"[\\u3000\\t\\n]+\", \"\", x).rstrip())\n",
    "    tempTB.drop(tempTB.index[0], inplace = True)\n",
    "    tempTB.rename(columns = {'Nutrition':'age'}, inplace = True)\n",
    "    tempTB['year'] = re.findall('_(\\d+)',eachFile)[0]\n",
    "    \n",
    "    if re.findall('total', eachFile):\n",
    "        tempTB['gender'] = 'All'\n",
    "    elif re.findall('female', eachFile): \n",
    "        tempTB['gender'] = 'Female'\n",
    "    else: \n",
    "        tempTB['gender'] = 'Male'\n",
    "    return tempTB"
   ]
  },
  {
   "cell_type": "code",
   "execution_count": 77,
   "metadata": {},
   "outputs": [],
   "source": [
    "df_2017 = {fileName for fileName in os.listdir() if re.findall('_2017.xlsx',fileName)}"
   ]
  },
  {
   "cell_type": "code",
   "execution_count": 78,
   "metadata": {},
   "outputs": [
    {
     "data": {
      "text/plain": [
       "{'jp_Nutrient_female_2017.xlsx',\n",
       " 'jp_Nutrient_male_2017.xlsx',\n",
       " 'jp_Nutrient_total_2017.xlsx'}"
      ]
     },
     "execution_count": 78,
     "metadata": {},
     "output_type": "execute_result"
    }
   ],
   "source": [
    "df_2017"
   ]
  },
  {
   "cell_type": "code",
   "execution_count": 79,
   "metadata": {},
   "outputs": [],
   "source": [
    "jp_2017 = list()\n",
    "\n",
    "for eachFile in df_2017: \n",
    "    \n",
    "    df = pd.ExcelFile(eachFile).parse(0)\n",
    "    age = list(df.iloc[4,3:].dropna())\n",
    "    df.dropna(thresh = 20, inplace = True)\n",
    "    meanCols =[0]+[i for i in range(5,df.shape[1], 3)]\n",
    "        \n",
    "    jp_2017.append(turningTable(age,meanCols,eachFile, df))"
   ]
  },
  {
   "cell_type": "code",
   "execution_count": 80,
   "metadata": {},
   "outputs": [],
   "source": [
    "jp_2017DF = pd.concat(jp_2017)"
   ]
  },
  {
   "cell_type": "code",
   "execution_count": 82,
   "metadata": {},
   "outputs": [],
   "source": [
    "df_else = tuple(fileName for fileName in os.listdir() if re.findall('201[3-6]',fileName))"
   ]
  },
  {
   "cell_type": "code",
   "execution_count": 83,
   "metadata": {},
   "outputs": [],
   "source": [
    "jp_else = list()\n",
    "\n",
    "for eachFile in df_else: \n",
    "    df = pd.ExcelFile(eachFile).parse(0)\n",
    "    age = list(df.iloc[4,5:].dropna())\n",
    "    df.dropna(thresh = 20, inplace = True)\n",
    "    meanCols =[0]+[i for i in range(5,df.shape[1], 3)]\n",
    "        \n",
    "    jp_else.append(turningTable(age,meanCols,eachFile, df))"
   ]
  },
  {
   "cell_type": "code",
   "execution_count": 84,
   "metadata": {},
   "outputs": [],
   "source": [
    "jp_elseDF = pd.concat(jp_else)"
   ]
  },
  {
   "cell_type": "code",
   "execution_count": 85,
   "metadata": {},
   "outputs": [],
   "source": [
    "df_2012 = tuple(fileName for fileName in os.listdir() if re.findall('2012',fileName))\n",
    "jp_2012 = list()\n",
    "\n",
    "for eachFile in df_2012: \n",
    "    \n",
    "    df = pd.ExcelFile(eachFile).parse(0)\n",
    "    \n",
    "    age = list(df.iloc[5,5:].dropna())\n",
    "    df.dropna(thresh = 20, inplace = True)\n",
    "    meanCols =[0]+[i for i in range(5,df.shape[1], 3)]\n",
    "        \n",
    "    jp_2012.append(turningTable(age,meanCols,eachFile, df))"
   ]
  },
  {
   "cell_type": "code",
   "execution_count": 86,
   "metadata": {},
   "outputs": [],
   "source": [
    "jp_2012DF = pd.concat(jp_2012)"
   ]
  },
  {
   "cell_type": "code",
   "execution_count": 87,
   "metadata": {},
   "outputs": [],
   "source": [
    "df_2011 = tuple(fileName for fileName in os.listdir() if re.findall('2011',fileName))"
   ]
  },
  {
   "cell_type": "code",
   "execution_count": 88,
   "metadata": {},
   "outputs": [],
   "source": [
    "jp_2011 = list()\n",
    "\n",
    "for eachFile in df_2011: \n",
    "    df = pd.ExcelFile(eachFile).parse(0)\n",
    "    age = list(df.iloc[4,5:].dropna())\n",
    "    df.dropna(thresh = 20, inplace = True)\n",
    "    meanCols =[0]+[i for i in range(5,df.shape[1], 3)]\n",
    "    \n",
    "    jp_2011.append(turningTable(age,meanCols,eachFile, df))"
   ]
  },
  {
   "cell_type": "code",
   "execution_count": 89,
   "metadata": {},
   "outputs": [],
   "source": [
    "jp_2011DF = pd.concat(jp_2011)"
   ]
  },
  {
   "cell_type": "code",
   "execution_count": 90,
   "metadata": {},
   "outputs": [
    {
     "data": {
      "text/plain": [
       "63"
      ]
     },
     "execution_count": 90,
     "metadata": {},
     "output_type": "execute_result"
    }
   ],
   "source": [
    "len(jp_2011DF.columns)"
   ]
  },
  {
   "cell_type": "code",
   "execution_count": 91,
   "metadata": {},
   "outputs": [
    {
     "data": {
      "text/plain": [
       "42"
      ]
     },
     "execution_count": 91,
     "metadata": {},
     "output_type": "execute_result"
    }
   ],
   "source": [
    "len(jp_2012DF.columns)"
   ]
  },
  {
   "cell_type": "code",
   "execution_count": 92,
   "metadata": {},
   "outputs": [
    {
     "data": {
      "text/plain": [
       "43"
      ]
     },
     "execution_count": 92,
     "metadata": {},
     "output_type": "execute_result"
    }
   ],
   "source": [
    "len(jp_2017DF.columns)"
   ]
  },
  {
   "cell_type": "code",
   "execution_count": 110,
   "metadata": {},
   "outputs": [],
   "source": [
    "for index, col in enumerate(jp_2011DF.columns): \n",
    "    if col not in jp_2017DF.columns: \n",
    "        print(col)\n",
    "        jp_2011DF.drop([jp_2011DF.columns[index]], axis = 1, inplace = True)"
   ]
  },
  {
   "cell_type": "code",
   "execution_count": 111,
   "metadata": {},
   "outputs": [
    {
     "data": {
      "text/plain": [
       "Index(['age', 'エネルギー', 'たんぱく質', 'うち動物性', '脂質', 'うち動物性', '飽和脂肪酸', '一価不飽和脂肪酸',\n",
       "       'n-6系脂肪酸', 'n-3系脂肪酸', 'コレステロール', '炭水化物', '食物繊維', 'うち水溶性', 'うち不溶性',\n",
       "       'ビタミンＡ', 'ビタミンＤ', 'ビタミンＥ', 'ビタミンＫ', 'ビタミンＢ1', 'ビタミンＢ2', 'ナイアシン',\n",
       "       'ビタミンＢ6', 'ビタミンＢ12', '葉酸', 'パントテン酸', 'ビタミンＣ', 'ナトリウム', '食塩相当量', '食塩相当量',\n",
       "       'カリウム', 'カルシウム', 'マグネシウム', 'リン', '鉄', '亜鉛', '銅', '脂肪エネルギー比率',\n",
       "       '炭水化物エネルギー比率', '動物性たんぱく質比率', 'year', 'gender'],\n",
       "      dtype='object', name=0)"
      ]
     },
     "execution_count": 111,
     "metadata": {},
     "output_type": "execute_result"
    }
   ],
   "source": [
    "jp_2011DF.columns"
   ]
  },
  {
   "cell_type": "code",
   "execution_count": 66,
   "metadata": {},
   "outputs": [
    {
     "data": {
      "text/plain": [
       "array([ True,  True,  True,  True,  True,  True,  True,  True,  True,\n",
       "        True,  True,  True,  True,  True,  True,  True,  True,  True,\n",
       "        True,  True,  True,  True,  True,  True,  True,  True,  True,\n",
       "        True,  True,  True,  True,  True,  True,  True,  True,  True,\n",
       "        True,  True,  True,  True,  True,  True])"
      ]
     },
     "execution_count": 66,
     "metadata": {},
     "output_type": "execute_result"
    }
   ],
   "source": [
    "jp_2012DF.columns == jp_2011DF.columns"
   ]
  },
  {
   "cell_type": "code",
   "execution_count": 102,
   "metadata": {},
   "outputs": [],
   "source": [
    "jp_elseDF.drop([jp_elseDF.columns[-3]], axis = 1, inplace = True)\n",
    "jp_2017DF.drop([jp_2017DF.columns[-3]], axis = 1, inplace = True)"
   ]
  },
  {
   "cell_type": "code",
   "execution_count": 115,
   "metadata": {},
   "outputs": [],
   "source": [
    "lst = [jp_2012DF, jp_2011DF, jp_elseDF, jp_2017DF]"
   ]
  },
  {
   "cell_type": "code",
   "execution_count": 117,
   "metadata": {},
   "outputs": [],
   "source": [
    "finalTB = pd.concat(lst)"
   ]
  },
  {
   "cell_type": "code",
   "execution_count": 118,
   "metadata": {},
   "outputs": [],
   "source": [
    "finalTB.to_csv('JP_Nutrtion.csv', index = False)"
   ]
  }
 ],
 "metadata": {
  "kernelspec": {
   "display_name": "Python 3",
   "language": "python",
   "name": "python3"
  },
  "language_info": {
   "codemirror_mode": {
    "name": "ipython",
    "version": 3
   },
   "file_extension": ".py",
   "mimetype": "text/x-python",
   "name": "python",
   "nbconvert_exporter": "python",
   "pygments_lexer": "ipython3",
   "version": "3.7.6"
  }
 },
 "nbformat": 4,
 "nbformat_minor": 4
}

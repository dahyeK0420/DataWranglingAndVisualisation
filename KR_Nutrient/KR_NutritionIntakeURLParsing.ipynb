{
 "cells": [
  {
   "cell_type": "code",
   "execution_count": 1,
   "metadata": {},
   "outputs": [],
   "source": [
    "from urllib.request import urlopen \n",
    "from bs4 import BeautifulSoup\n",
    "import re \n",
    "import pandas as pd \n",
    "import langid"
   ]
  },
  {
   "cell_type": "code",
   "execution_count": 2,
   "metadata": {},
   "outputs": [],
   "source": [
    "def nutrientIntakeDict(elementList):\n",
    "    nutrientIntake = dict()\n",
    "    for eachElement in elementList: \n",
    "        for i in range(len(eachElement)): \n",
    "            nutrientIntake[eachElement[0]] = eachElement[1:]\n",
    "    return nutrientIntake"
   ]
  },
  {
   "cell_type": "code",
   "execution_count": 3,
   "metadata": {},
   "outputs": [],
   "source": [
    "KR_nutrientIntake = list()"
   ]
  },
  {
   "cell_type": "code",
   "execution_count": 4,
   "metadata": {},
   "outputs": [],
   "source": [
    "for i in range(1,4):\n",
    "    url = 'https://www.khidi.or.kr/kps/dhraStat/result5?menuId=MENU01657&gubun=age'+str(i)\n",
    "    eachGender = list()\n",
    "    \n",
    "    for yr in range(2008,2019): \n",
    "        urlwithYr = url+'&year='+str(yr)\n",
    "        html = urlopen(urlwithYr)\n",
    "        bsobj=BeautifulSoup(html, 'lxml')\n",
    "        \n",
    "        age = [agesCol.text for agesCol in bsobj.find('thead').findAll('th')[1:10]]\n",
    "        \n",
    "        nutrientIntakeAvgMargin = [nutrient.text for nutrient in bsobj.find('tbody').findAll('td')]\n",
    "        element = [nutrientIntakeAvgMargin[x:x+19] for x in range(0, len(nutrientIntakeAvgMargin), 19)]\n",
    "        \n",
    "        nutrientIntakeTB = pd.DataFrame(nutrientIntakeDict(element))\n",
    "        nutrientIntakeTB.drop([i for i in range(1,18,2)], inplace = True)\n",
    "        \n",
    "        nutrientIntakeTB['Age'] = age\n",
    "        nutrientIntakeTB['Year'] = yr\n",
    "        eachGender.append(nutrientIntakeTB)\n",
    "    \n",
    "    nutrientIntakeGender = pd.concat(eachGender)\n",
    "    \n",
    "    if i == 1: \n",
    "        nutrientIntakeGender['Gender'] = 'All'\n",
    "    elif i == 2: \n",
    "        nutrientIntakeGender['Gender'] = 'Male'\n",
    "    elif i == 3: \n",
    "        nutrientIntakeGender['Gender'] = 'Female'\n",
    "    \n",
    "    KR_nutrientIntake.append(nutrientIntakeGender)"
   ]
  },
  {
   "cell_type": "code",
   "execution_count": 12,
   "metadata": {},
   "outputs": [],
   "source": [
    "finalTB = pd.concat(KR_nutrientIntake)"
   ]
  },
  {
   "cell_type": "code",
   "execution_count": 8,
   "metadata": {},
   "outputs": [],
   "source": [
    "finalTB = finalTB[['Age', 'Year', 'Gender','에너지(Kcal)', '단백질(g)', '동물성단백질(g)', '지방(g)', '탄수화물(g)', '칼슘(mg)',\n",
    "       '인(mg)', '철(mg)', '나트륨(mg)', '칼륨(mg)', '티아민(mg)', '리보플라빈(mg)',\n",
    "       '비타민C(mg)', '동물성단백질비(%)', '지방급원에너지비(%)']]"
   ]
  },
  {
   "cell_type": "code",
   "execution_count": 9,
   "metadata": {},
   "outputs": [],
   "source": [
    "finalTB.to_csv('kr_Nutrient.csv', index = False)"
   ]
  }
 ],
 "metadata": {
  "kernelspec": {
   "display_name": "Python 3",
   "language": "python",
   "name": "python3"
  },
  "language_info": {
   "codemirror_mode": {
    "name": "ipython",
    "version": 3
   },
   "file_extension": ".py",
   "mimetype": "text/x-python",
   "name": "python",
   "nbconvert_exporter": "python",
   "pygments_lexer": "ipython3",
   "version": "3.7.6"
  }
 },
 "nbformat": 4,
 "nbformat_minor": 4
}

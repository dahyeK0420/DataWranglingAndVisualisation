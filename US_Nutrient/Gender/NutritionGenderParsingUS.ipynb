{
 "cells": [
  {
   "cell_type": "code",
   "execution_count": 3,
   "metadata": {},
   "outputs": [],
   "source": [
    "import tabula \n",
    "import os \n",
    "import re \n",
    "import pandas as pd\n",
    "import numpy as np"
   ]
  },
  {
   "cell_type": "code",
   "execution_count": 4,
   "metadata": {},
   "outputs": [],
   "source": [
    "genders = sorted([i for i in os.listdir() if re.findall('age.pdf',i) and i.endswith('.pdf')])"
   ]
  },
  {
   "cell_type": "code",
   "execution_count": 6,
   "metadata": {},
   "outputs": [],
   "source": [
    "genderbracket = ['male']*10+['female']*10+['male and female']"
   ]
  },
  {
   "cell_type": "code",
   "execution_count": 7,
   "metadata": {},
   "outputs": [],
   "source": [
    "nutrition1 = ['food energy(kcal)', 'protein(g)', 'carbohydrate(g)', 'total sugars(g)','dietary fiber(g)',\\\n",
    "             'total fat(g)', 'saturated fat(g)', 'monosaturated fat(g)', 'polysaturated fat(g)']"
   ]
  },
  {
   "cell_type": "code",
   "execution_count": 8,
   "metadata": {},
   "outputs": [],
   "source": [
    "def reorganising_temp(df): \n",
    "    \n",
    "    df['temp'] = ['']*df.shape[0]\n",
    "    for i in range(df.shape[1]): \n",
    "        df['temp']+=df[df.columns[i]]\n",
    "    useless = [i for i in range(0,df.shape[1]-1)]\n",
    "    df.drop(df.columns[useless], axis = 1, inplace = True)\n",
    "    df.dropna(inplace = True)\n",
    "    df.temp = df.temp.apply(lambda x: x.replace('(', ' '))\n",
    "    df.temp = df.temp.apply(lambda x: x.replace(')', ' '))\n",
    "    df.temp = df.temp.apply(lambda x: x.replace('*', ' '))\n",
    "    df.drop(df.index[[range(0,3)]], inplace = True)\n",
    "    \n",
    "    return df "
   ]
  },
  {
   "cell_type": "code",
   "execution_count": 9,
   "metadata": {},
   "outputs": [],
   "source": [
    "def allocateNumbers(df, yr):\n",
    "    \n",
    "    for i in range(0, len(nutrition1)): \n",
    "        df[nutrition1[i]] = df['temp'].apply(lambda x: x.split('... ')[1].split()[i*2+1])\n",
    "        \n",
    "    df['age'] = df[df.columns[0]].apply(lambda x: x.split('... ')[0].rstrip('...'))\n",
    "    df['year'] = [yr]*df.shape[0]\n",
    "    if int(yr.split('-')[0])<2011: \n",
    "        genderbracket= ['male']*10+['female']*10+['male and female']\n",
    "    else: genderbracket = ['male']*12+['female']*12+['male and female']*3\n",
    "    df['gender'] = genderbracket\n",
    "    df.drop(['temp'], axis = 1, inplace = True)\n",
    "    \n",
    "    return df"
   ]
  },
  {
   "cell_type": "code",
   "execution_count": 10,
   "metadata": {},
   "outputs": [
    {
     "name": "stderr",
     "output_type": "stream",
     "text": [
      "/Users/dahyekim/opt/anaconda3/lib/python3.7/site-packages/pandas/core/indexes/base.py:3941: FutureWarning: Using a non-tuple sequence for multidimensional indexing is deprecated; use `arr[tuple(seq)]` instead of `arr[seq]`. In the future this will be interpreted as an array index, `arr[np.array(seq)]`, which will result either in an error or a different result.\n",
      "  result = getitem(key)\n",
      "/Users/dahyekim/opt/anaconda3/lib/python3.7/site-packages/pandas/core/indexes/base.py:3941: FutureWarning: Using a non-tuple sequence for multidimensional indexing is deprecated; use `arr[tuple(seq)]` instead of `arr[seq]`. In the future this will be interpreted as an array index, `arr[np.array(seq)]`, which will result either in an error or a different result.\n",
      "  result = getitem(key)\n",
      "/Users/dahyekim/opt/anaconda3/lib/python3.7/site-packages/pandas/core/indexes/base.py:3941: FutureWarning: Using a non-tuple sequence for multidimensional indexing is deprecated; use `arr[tuple(seq)]` instead of `arr[seq]`. In the future this will be interpreted as an array index, `arr[np.array(seq)]`, which will result either in an error or a different result.\n",
      "  result = getitem(key)\n",
      "/Users/dahyekim/opt/anaconda3/lib/python3.7/site-packages/pandas/core/indexes/base.py:3941: FutureWarning: Using a non-tuple sequence for multidimensional indexing is deprecated; use `arr[tuple(seq)]` instead of `arr[seq]`. In the future this will be interpreted as an array index, `arr[np.array(seq)]`, which will result either in an error or a different result.\n",
      "  result = getitem(key)\n",
      "/Users/dahyekim/opt/anaconda3/lib/python3.7/site-packages/pandas/core/indexes/base.py:3941: FutureWarning: Using a non-tuple sequence for multidimensional indexing is deprecated; use `arr[tuple(seq)]` instead of `arr[seq]`. In the future this will be interpreted as an array index, `arr[np.array(seq)]`, which will result either in an error or a different result.\n",
      "  result = getitem(key)\n",
      "/Users/dahyekim/opt/anaconda3/lib/python3.7/site-packages/pandas/core/indexes/base.py:3941: FutureWarning: Using a non-tuple sequence for multidimensional indexing is deprecated; use `arr[tuple(seq)]` instead of `arr[seq]`. In the future this will be interpreted as an array index, `arr[np.array(seq)]`, which will result either in an error or a different result.\n",
      "  result = getitem(key)\n"
     ]
    }
   ],
   "source": [
    "genderNutrition =[]\n",
    "for i in range(3, len(genders)): \n",
    "    year = genders[i].split('_')[0]+'-'+str(int(genders[i].split('_')[0])+1)\n",
    "    dfs = tabula.read_pdf(genders[i], pages = 1)\n",
    "    tempdf = reorganising_temp(dfs[0])\n",
    "    tempdf = allocateNumbers(tempdf,year)\n",
    "    genderNutrition.append(tempdf)"
   ]
  },
  {
   "cell_type": "code",
   "execution_count": 11,
   "metadata": {},
   "outputs": [],
   "source": [
    "genderNutrition1 = pd.concat(genderNutrition)"
   ]
  },
  {
   "cell_type": "code",
   "execution_count": 12,
   "metadata": {},
   "outputs": [],
   "source": [
    "nutrition2 = ['Cholesterol(mg)', 'retinol (milg)', 'vitaminA (milg)', 'alphacarotene (milg)',\\\n",
    "             'betacarotene (milg)', 'beta-cryptoxanthin (milg)', 'lycopene (milg)', \\\n",
    "             'lutein+zeaxanthin (milg)', 'thiamin(mg)']"
   ]
  },
  {
   "cell_type": "code",
   "execution_count": 13,
   "metadata": {},
   "outputs": [],
   "source": [
    "def allocateNumbers2(df, yr):\n",
    "    \n",
    "    for i in range(0, len(nutrition2)): \n",
    "        df[nutrition2[i]] = df['temp'].apply(lambda x: x.split('... ')[1].split()[i*2])\n",
    "        \n",
    "    df['age'] = df[df.columns[0]].apply(lambda x: x.split('... ')[0].rstrip('...'))\n",
    "    df['year'] = [yr]*df.shape[0]\n",
    "    if int(yr.split('-')[0])<2011: \n",
    "        genderbracket= ['male']*10+['female']*10+['male and female']\n",
    "    else: genderbracket = ['male']*12+['female']*12+['male and female']*3\n",
    "    df.drop(['temp'], axis = 1, inplace = True)\n",
    "    \n",
    "    return df"
   ]
  },
  {
   "cell_type": "code",
   "execution_count": 14,
   "metadata": {},
   "outputs": [],
   "source": [
    "def reorganising_temp2(df): \n",
    "    \n",
    "    df['temp'] = ['']*df.shape[0]\n",
    "    for i in range(df.shape[1]): \n",
    "        df['temp']+=df[df.columns[i]]\n",
    "    useless = [i for i in range(0,df.shape[1]-1)]\n",
    "    df.drop(df.columns[useless], axis = 1, inplace = True)\n",
    "    df.dropna(inplace = True)\n",
    "    df.temp = df.temp.apply(lambda x: x.replace('(', ' '))\n",
    "    df.temp = df.temp.apply(lambda x: x.replace(')', ' '))\n",
    "    df.temp = df.temp.apply(lambda x: x.replace('*', ' '))\n",
    "    df.drop(df.index[[range(0,3)]], inplace = True)\n",
    "    \n",
    "    return df "
   ]
  },
  {
   "cell_type": "code",
   "execution_count": 15,
   "metadata": {},
   "outputs": [
    {
     "name": "stderr",
     "output_type": "stream",
     "text": [
      "/Users/dahyekim/opt/anaconda3/lib/python3.7/site-packages/pandas/core/indexes/base.py:3941: FutureWarning: Using a non-tuple sequence for multidimensional indexing is deprecated; use `arr[tuple(seq)]` instead of `arr[seq]`. In the future this will be interpreted as an array index, `arr[np.array(seq)]`, which will result either in an error or a different result.\n",
      "  result = getitem(key)\n",
      "/Users/dahyekim/opt/anaconda3/lib/python3.7/site-packages/pandas/core/indexes/base.py:3941: FutureWarning: Using a non-tuple sequence for multidimensional indexing is deprecated; use `arr[tuple(seq)]` instead of `arr[seq]`. In the future this will be interpreted as an array index, `arr[np.array(seq)]`, which will result either in an error or a different result.\n",
      "  result = getitem(key)\n",
      "/Users/dahyekim/opt/anaconda3/lib/python3.7/site-packages/pandas/core/indexes/base.py:3941: FutureWarning: Using a non-tuple sequence for multidimensional indexing is deprecated; use `arr[tuple(seq)]` instead of `arr[seq]`. In the future this will be interpreted as an array index, `arr[np.array(seq)]`, which will result either in an error or a different result.\n",
      "  result = getitem(key)\n",
      "/Users/dahyekim/opt/anaconda3/lib/python3.7/site-packages/pandas/core/indexes/base.py:3941: FutureWarning: Using a non-tuple sequence for multidimensional indexing is deprecated; use `arr[tuple(seq)]` instead of `arr[seq]`. In the future this will be interpreted as an array index, `arr[np.array(seq)]`, which will result either in an error or a different result.\n",
      "  result = getitem(key)\n",
      "/Users/dahyekim/opt/anaconda3/lib/python3.7/site-packages/pandas/core/indexes/base.py:3941: FutureWarning: Using a non-tuple sequence for multidimensional indexing is deprecated; use `arr[tuple(seq)]` instead of `arr[seq]`. In the future this will be interpreted as an array index, `arr[np.array(seq)]`, which will result either in an error or a different result.\n",
      "  result = getitem(key)\n",
      "/Users/dahyekim/opt/anaconda3/lib/python3.7/site-packages/pandas/core/indexes/base.py:3941: FutureWarning: Using a non-tuple sequence for multidimensional indexing is deprecated; use `arr[tuple(seq)]` instead of `arr[seq]`. In the future this will be interpreted as an array index, `arr[np.array(seq)]`, which will result either in an error or a different result.\n",
      "  result = getitem(key)\n"
     ]
    }
   ],
   "source": [
    "genderNutrition2 =[]\n",
    "for i in range(3, len(genders)): \n",
    "    year = genders[i].split('_')[0]+'-'+str(int(genders[i].split('_')[0])+1)\n",
    "    dfs = tabula.read_pdf(genders[i], pages = 2)\n",
    "    tempdf = reorganising_temp(dfs[0])\n",
    "    tempdf = allocateNumbers2(tempdf,year)\n",
    "    genderNutrition2.append(tempdf)"
   ]
  },
  {
   "cell_type": "code",
   "execution_count": 16,
   "metadata": {},
   "outputs": [],
   "source": [
    "genderNutrition2 = pd.concat(genderNutrition2)"
   ]
  },
  {
   "cell_type": "code",
   "execution_count": 17,
   "metadata": {},
   "outputs": [],
   "source": [
    "nutrition3 = ['riboflavin (mg)', 'niacin', 'vitamin B6 (mg)', 'folic acid (milg)', 'food folate (milg)',\\\n",
    "             'folate (DFE) (milg)', 'Choline (mg)', 'vitamin B12 (milg)']"
   ]
  },
  {
   "cell_type": "code",
   "execution_count": 18,
   "metadata": {},
   "outputs": [],
   "source": [
    "def allocateNumbers3(df, yr):\n",
    "    \n",
    "    for i in range(0, len(nutrition3)): \n",
    "        df[nutrition3[i]] = df['temp'].apply(lambda x: x.split('... ')[1].split()[i*2])\n",
    "        \n",
    "    df['age'] = df[df.columns[0]].apply(lambda x: x.split('... ')[0].rstrip('...'))\n",
    "    df['year'] = [yr]*df.shape[0]\n",
    "    if int(yr.split('-')[0])<2011: \n",
    "        genderbracket= ['male']*10+['female']*10+['male and female']\n",
    "    else: genderbracket = ['male']*12+['female']*12+['male and female']*3\n",
    "    df.drop(['temp'], axis = 1, inplace = True)\n",
    "    \n",
    "    return df"
   ]
  },
  {
   "cell_type": "code",
   "execution_count": 19,
   "metadata": {},
   "outputs": [
    {
     "name": "stderr",
     "output_type": "stream",
     "text": [
      "/Users/dahyekim/opt/anaconda3/lib/python3.7/site-packages/pandas/core/indexes/base.py:3941: FutureWarning: Using a non-tuple sequence for multidimensional indexing is deprecated; use `arr[tuple(seq)]` instead of `arr[seq]`. In the future this will be interpreted as an array index, `arr[np.array(seq)]`, which will result either in an error or a different result.\n",
      "  result = getitem(key)\n",
      "/Users/dahyekim/opt/anaconda3/lib/python3.7/site-packages/pandas/core/indexes/base.py:3941: FutureWarning: Using a non-tuple sequence for multidimensional indexing is deprecated; use `arr[tuple(seq)]` instead of `arr[seq]`. In the future this will be interpreted as an array index, `arr[np.array(seq)]`, which will result either in an error or a different result.\n",
      "  result = getitem(key)\n",
      "/Users/dahyekim/opt/anaconda3/lib/python3.7/site-packages/pandas/core/indexes/base.py:3941: FutureWarning: Using a non-tuple sequence for multidimensional indexing is deprecated; use `arr[tuple(seq)]` instead of `arr[seq]`. In the future this will be interpreted as an array index, `arr[np.array(seq)]`, which will result either in an error or a different result.\n",
      "  result = getitem(key)\n",
      "/Users/dahyekim/opt/anaconda3/lib/python3.7/site-packages/pandas/core/indexes/base.py:3941: FutureWarning: Using a non-tuple sequence for multidimensional indexing is deprecated; use `arr[tuple(seq)]` instead of `arr[seq]`. In the future this will be interpreted as an array index, `arr[np.array(seq)]`, which will result either in an error or a different result.\n",
      "  result = getitem(key)\n",
      "/Users/dahyekim/opt/anaconda3/lib/python3.7/site-packages/pandas/core/indexes/base.py:3941: FutureWarning: Using a non-tuple sequence for multidimensional indexing is deprecated; use `arr[tuple(seq)]` instead of `arr[seq]`. In the future this will be interpreted as an array index, `arr[np.array(seq)]`, which will result either in an error or a different result.\n",
      "  result = getitem(key)\n",
      "/Users/dahyekim/opt/anaconda3/lib/python3.7/site-packages/pandas/core/indexes/base.py:3941: FutureWarning: Using a non-tuple sequence for multidimensional indexing is deprecated; use `arr[tuple(seq)]` instead of `arr[seq]`. In the future this will be interpreted as an array index, `arr[np.array(seq)]`, which will result either in an error or a different result.\n",
      "  result = getitem(key)\n"
     ]
    }
   ],
   "source": [
    "genderNutrition3 =[]\n",
    "for i in range(3, len(genders)): \n",
    "    year = genders[i].split('_')[0]+'-'+str(int(genders[i].split('_')[0])+1)\n",
    "    dfs = tabula.read_pdf(genders[i], pages = 3)\n",
    "    tempdf = reorganising_temp(dfs[0])\n",
    "    tempdf = allocateNumbers3(tempdf,year)\n",
    "    genderNutrition3.append(tempdf)"
   ]
  },
  {
   "cell_type": "code",
   "execution_count": 20,
   "metadata": {},
   "outputs": [],
   "source": [
    "genderNutrition3 = pd.concat(genderNutrition3)"
   ]
  },
  {
   "cell_type": "code",
   "execution_count": 21,
   "metadata": {},
   "outputs": [],
   "source": [
    "nutrition4 = ['vitamin C (mg)', 'vitamin D (milg)', 'vitamin E (mg)', 'added vitamin E (mg)',\\\n",
    "             'vitamin K', 'calcium (mg)', 'phosphorus (mg)', 'magnesium (mg)']\n",
    "nutrition5 = ['iron (mg)', 'zinc (mg)', 'copper (mg)', 'selenium (milg)', 'potassium (mg)',\\\n",
    "             'sodium (mg)', 'caffeine (mg)', 'theobromine (mg)']"
   ]
  },
  {
   "cell_type": "code",
   "execution_count": 22,
   "metadata": {},
   "outputs": [],
   "source": [
    "def allocateNumbers4(df, yr):\n",
    "    \n",
    "    for i in range(0, len(nutrition4)): \n",
    "        df[nutrition4[i]] = df['temp'].apply(lambda x: x.split('... ')[1].split()[i*2])\n",
    "        \n",
    "    df['age'] = df[df.columns[0]].apply(lambda x: x.split('... ')[0].rstrip('...'))\n",
    "    df['year'] = [yr]*df.shape[0]\n",
    "    if int(yr.split('-')[0])<2011: \n",
    "        genderbracket= ['male']*10+['female']*10+['male and female']\n",
    "    else: genderbracket = ['male']*12+['female']*12+['male and female']*3\n",
    "    df.drop(['temp'], axis = 1, inplace = True)\n",
    "    \n",
    "    return df"
   ]
  },
  {
   "cell_type": "code",
   "execution_count": 23,
   "metadata": {},
   "outputs": [],
   "source": [
    "def allocateNumbers5(df, yr):\n",
    "    \n",
    "    for i in range(0, len(nutrition5)): \n",
    "        df[nutrition5[i]] = df['temp'].apply(lambda x: x.split('... ')[1].split()[i*2])\n",
    "        \n",
    "    df['age'] = df[df.columns[0]].apply(lambda x: x.split('... ')[0].rstrip('...'))\n",
    "    df['year'] = [yr]*df.shape[0]\n",
    "    if int(yr.split('-')[0])<2011: \n",
    "        genderbracket= ['male']*10+['female']*10+['male and female']\n",
    "    else: genderbracket = ['male']*12+['female']*12+['male and female']*3\n",
    "    df.drop(['temp'], axis = 1, inplace = True)\n",
    "    \n",
    "    return df"
   ]
  },
  {
   "cell_type": "code",
   "execution_count": 24,
   "metadata": {},
   "outputs": [],
   "source": [
    "def reorganising_temp3(df): \n",
    "    \n",
    "    df['temp'] = ['']*df.shape[0]\n",
    "    for i in range(df.shape[1]): \n",
    "        df['temp']+=df[df.columns[i]]\n",
    "    useless = [i for i in range(0,df.shape[1]-1)]\n",
    "    df.drop(df.columns[useless], axis = 1, inplace = True)\n",
    "    df.dropna(inplace = True)\n",
    "    df.temp = df.temp.apply(lambda x: x.replace('(', ' '))\n",
    "    df.temp = df.temp.apply(lambda x: x.replace(')', ' '))\n",
    "    df.temp = df.temp.apply(lambda x: x.replace('*', ' '))\n",
    "    df.drop(df.index[[range(0,2)]], inplace = True)\n",
    "    \n",
    "    return df "
   ]
  },
  {
   "cell_type": "code",
   "execution_count": 25,
   "metadata": {},
   "outputs": [
    {
     "name": "stderr",
     "output_type": "stream",
     "text": [
      "/Users/dahyekim/opt/anaconda3/lib/python3.7/site-packages/pandas/core/indexes/base.py:3941: FutureWarning: Using a non-tuple sequence for multidimensional indexing is deprecated; use `arr[tuple(seq)]` instead of `arr[seq]`. In the future this will be interpreted as an array index, `arr[np.array(seq)]`, which will result either in an error or a different result.\n",
      "  result = getitem(key)\n",
      "/Users/dahyekim/opt/anaconda3/lib/python3.7/site-packages/pandas/core/indexes/base.py:3941: FutureWarning: Using a non-tuple sequence for multidimensional indexing is deprecated; use `arr[tuple(seq)]` instead of `arr[seq]`. In the future this will be interpreted as an array index, `arr[np.array(seq)]`, which will result either in an error or a different result.\n",
      "  result = getitem(key)\n",
      "/Users/dahyekim/opt/anaconda3/lib/python3.7/site-packages/pandas/core/indexes/base.py:3941: FutureWarning: Using a non-tuple sequence for multidimensional indexing is deprecated; use `arr[tuple(seq)]` instead of `arr[seq]`. In the future this will be interpreted as an array index, `arr[np.array(seq)]`, which will result either in an error or a different result.\n",
      "  result = getitem(key)\n",
      "/Users/dahyekim/opt/anaconda3/lib/python3.7/site-packages/pandas/core/indexes/base.py:3941: FutureWarning: Using a non-tuple sequence for multidimensional indexing is deprecated; use `arr[tuple(seq)]` instead of `arr[seq]`. In the future this will be interpreted as an array index, `arr[np.array(seq)]`, which will result either in an error or a different result.\n",
      "  result = getitem(key)\n",
      "/Users/dahyekim/opt/anaconda3/lib/python3.7/site-packages/pandas/core/indexes/base.py:3941: FutureWarning: Using a non-tuple sequence for multidimensional indexing is deprecated; use `arr[tuple(seq)]` instead of `arr[seq]`. In the future this will be interpreted as an array index, `arr[np.array(seq)]`, which will result either in an error or a different result.\n",
      "  result = getitem(key)\n",
      "/Users/dahyekim/opt/anaconda3/lib/python3.7/site-packages/pandas/core/indexes/base.py:3941: FutureWarning: Using a non-tuple sequence for multidimensional indexing is deprecated; use `arr[tuple(seq)]` instead of `arr[seq]`. In the future this will be interpreted as an array index, `arr[np.array(seq)]`, which will result either in an error or a different result.\n",
      "  result = getitem(key)\n",
      "/Users/dahyekim/opt/anaconda3/lib/python3.7/site-packages/pandas/core/indexes/base.py:3941: FutureWarning: Using a non-tuple sequence for multidimensional indexing is deprecated; use `arr[tuple(seq)]` instead of `arr[seq]`. In the future this will be interpreted as an array index, `arr[np.array(seq)]`, which will result either in an error or a different result.\n",
      "  result = getitem(key)\n",
      "/Users/dahyekim/opt/anaconda3/lib/python3.7/site-packages/pandas/core/indexes/base.py:3941: FutureWarning: Using a non-tuple sequence for multidimensional indexing is deprecated; use `arr[tuple(seq)]` instead of `arr[seq]`. In the future this will be interpreted as an array index, `arr[np.array(seq)]`, which will result either in an error or a different result.\n",
      "  result = getitem(key)\n",
      "/Users/dahyekim/opt/anaconda3/lib/python3.7/site-packages/pandas/core/indexes/base.py:3941: FutureWarning: Using a non-tuple sequence for multidimensional indexing is deprecated; use `arr[tuple(seq)]` instead of `arr[seq]`. In the future this will be interpreted as an array index, `arr[np.array(seq)]`, which will result either in an error or a different result.\n",
      "  result = getitem(key)\n",
      "/Users/dahyekim/opt/anaconda3/lib/python3.7/site-packages/pandas/core/indexes/base.py:3941: FutureWarning: Using a non-tuple sequence for multidimensional indexing is deprecated; use `arr[tuple(seq)]` instead of `arr[seq]`. In the future this will be interpreted as an array index, `arr[np.array(seq)]`, which will result either in an error or a different result.\n",
      "  result = getitem(key)\n",
      "/Users/dahyekim/opt/anaconda3/lib/python3.7/site-packages/pandas/core/indexes/base.py:3941: FutureWarning: Using a non-tuple sequence for multidimensional indexing is deprecated; use `arr[tuple(seq)]` instead of `arr[seq]`. In the future this will be interpreted as an array index, `arr[np.array(seq)]`, which will result either in an error or a different result.\n",
      "  result = getitem(key)\n",
      "/Users/dahyekim/opt/anaconda3/lib/python3.7/site-packages/pandas/core/indexes/base.py:3941: FutureWarning: Using a non-tuple sequence for multidimensional indexing is deprecated; use `arr[tuple(seq)]` instead of `arr[seq]`. In the future this will be interpreted as an array index, `arr[np.array(seq)]`, which will result either in an error or a different result.\n",
      "  result = getitem(key)\n"
     ]
    }
   ],
   "source": [
    "genderNutrition4 =[]\n",
    "for i in range(3, len(genders)): \n",
    "    year = genders[i].split('_')[0]+'-'+str(int(genders[i].split('_')[0])+1)\n",
    "    dfs = tabula.read_pdf(genders[i], pages = 4)\n",
    "    tempdf = reorganising_temp3(dfs[0])\n",
    "    tempdf = allocateNumbers4(tempdf,year)\n",
    "    genderNutrition4.append(tempdf)\n",
    "    \n",
    "genderNutrition5 =[]\n",
    "for i in range(3, len(genders)): \n",
    "    year = genders[i].split('_')[0]+'-'+str(int(genders[i].split('_')[0])+1)\n",
    "    dfs = tabula.read_pdf(genders[i], pages = 5)\n",
    "    tempdf = reorganising_temp3(dfs[0])\n",
    "    tempdf = allocateNumbers5(tempdf,year)\n",
    "    genderNutrition5.append(tempdf)"
   ]
  },
  {
   "cell_type": "code",
   "execution_count": 26,
   "metadata": {},
   "outputs": [],
   "source": [
    "genderNutrition4 = pd.concat(genderNutrition4)\n",
    "genderNutrition5 = pd.concat(genderNutrition5)"
   ]
  },
  {
   "cell_type": "code",
   "execution_count": 28,
   "metadata": {},
   "outputs": [
    {
     "data": {
      "text/plain": [
       "Index(['iron (mg)', 'zinc (mg)', 'copper (mg)', 'selenium (milg)',\n",
       "       'potassium (mg)', 'sodium (mg)', 'caffeine (mg)', 'theobromine (mg)',\n",
       "       'age', 'year'],\n",
       "      dtype='object')"
      ]
     },
     "execution_count": 28,
     "metadata": {},
     "output_type": "execute_result"
    }
   ],
   "source": [
    "genderNutrition5.columns"
   ]
  },
  {
   "cell_type": "code",
   "execution_count": 31,
   "metadata": {},
   "outputs": [],
   "source": [
    "lst = [genderNutrition1,genderNutrition2,genderNutrition3,genderNutrition4,genderNutrition5]\n",
    "a = pd.merge(lst[0],lst[1], on = ['year', 'age','gender'], how ='inner')\n",
    "b= pd.merge(lst[2],lst[3], on = ['year', 'age','gender'], how ='inner')"
   ]
  },
  {
   "cell_type": "code",
   "execution_count": 29,
   "metadata": {},
   "outputs": [],
   "source": [
    "for i in range(1,len(lst)): \n",
    "    lst[i]['gender'] = ['male']*10+['female']*10+['male and female'] + ['male']*10+['female']*10+['male and female']+\\\n",
    "['male']*12+['female']*12+['male and female']*3+\\\n",
    "['male']*12+['female']*12+['male and female']*3+\\\n",
    "['male']*12+['female']*12+['male and female']*3+\\\n",
    "['male']*12+['female']*12+['male and female']*3"
   ]
  },
  {
   "cell_type": "code",
   "execution_count": 32,
   "metadata": {},
   "outputs": [],
   "source": [
    "c=pd.merge(lst[4],b, on = ['year', 'age','gender'], how ='inner')\n",
    "d=pd.merge(c,a , on = ['year', 'age','gender'], how ='inner')\n",
    "d=d[['age', 'year', 'gender', 'iron (mg)', 'zinc (mg)', 'copper (mg)', 'selenium (milg)',\n",
    "       'potassium (mg)', 'sodium (mg)', 'caffeine (mg)', 'theobromine (mg)',\n",
    "       'riboflavin (mg)', 'niacin', 'vitamin B6 (mg)',\n",
    "       'folic acid (milg)', 'food folate (milg)', 'folate (DFE) (milg)',\n",
    "       'Choline (mg)', 'vitamin B12 (milg)', 'vitamin C (mg)',\n",
    "       'vitamin D (milg)', 'vitamin E (mg)', 'added vitamin E (mg)',\n",
    "       'vitamin K', 'calcium (mg)', 'phosphorus (mg)', 'magnesium (mg)',\n",
    "       'food energy(kcal)', 'protein(g)', 'carbohydrate(g)', 'total sugars(g)',\n",
    "       'dietary fiber(g)', 'total fat(g)', 'saturated fat(g)',\n",
    "       'monosaturated fat(g)', 'polysaturated fat(g)', 'Cholesterol(mg)',\n",
    "       'retinol (milg)', 'vitaminA (milg)', 'alphacarotene (milg)',\n",
    "       'betacarotene (milg)', 'beta-cryptoxanthin (milg)', 'lycopene (milg)',\n",
    "       'lutein+zeaxanthin (milg)', 'thiamin(mg)']]"
   ]
  },
  {
   "cell_type": "code",
   "execution_count": 34,
   "metadata": {},
   "outputs": [],
   "source": [
    "finalTB = d.copy()\n",
    "finalTB.to_csv('US_Nutrtion_gender.csv', index = False)"
   ]
  }
 ],
 "metadata": {
  "kernelspec": {
   "display_name": "Python 3",
   "language": "python",
   "name": "python3"
  },
  "language_info": {
   "codemirror_mode": {
    "name": "ipython",
    "version": 3
   },
   "file_extension": ".py",
   "mimetype": "text/x-python",
   "name": "python",
   "nbconvert_exporter": "python",
   "pygments_lexer": "ipython3",
   "version": "3.7.6"
  }
 },
 "nbformat": 4,
 "nbformat_minor": 4
}

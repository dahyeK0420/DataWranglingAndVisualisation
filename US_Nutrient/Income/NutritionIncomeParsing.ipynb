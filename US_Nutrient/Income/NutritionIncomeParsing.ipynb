{
 "cells": [
  {
   "cell_type": "code",
   "execution_count": 1,
   "metadata": {},
   "outputs": [],
   "source": [
    "import tabula \n",
    "import os \n",
    "import re \n",
    "import pandas as pd\n",
    "import numpy as np"
   ]
  },
  {
   "cell_type": "code",
   "execution_count": 2,
   "metadata": {},
   "outputs": [],
   "source": [
    "income = sorted([i for i in os.listdir() if re.findall('income.pdf',i)])"
   ]
  },
  {
   "cell_type": "code",
   "execution_count": 4,
   "metadata": {},
   "outputs": [],
   "source": [
    "incomebracket = ['$0-$24,999']*5+['$25,000-$74,999']*5+['$75,000 or higher']*5+['all individuals']*5"
   ]
  },
  {
   "cell_type": "code",
   "execution_count": 5,
   "metadata": {},
   "outputs": [],
   "source": [
    "nutrition1 = ['food energy(kcal)', 'protein(g)', 'carbohydrate(g)', 'total sugars(g)','dietary fiber(g)',\\\n",
    "             'total fat(g)', 'saturated fat(g)', 'monosaturated fat(g)', 'polysaturated fat(g)']"
   ]
  },
  {
   "cell_type": "code",
   "execution_count": 6,
   "metadata": {},
   "outputs": [],
   "source": [
    "def reorganising_temp(df): \n",
    "    \n",
    "    df['temp'] = ['']*df.shape[0]\n",
    "    for i in range(df.shape[1]): \n",
    "        df['temp']+=df[df.columns[i]]\n",
    "    useless = [i for i in range(0,df.shape[1]-1)]\n",
    "    df.drop(df.columns[useless], axis = 1, inplace = True)\n",
    "    df.dropna(inplace = True)\n",
    "    df.temp = df.temp.apply(lambda x: x.replace('(', ' '))\n",
    "    df.temp = df.temp.apply(lambda x: x.replace(')', ' '))\n",
    "    df.temp = df.temp.apply(lambda x: x.replace('*', ' '))\n",
    "    df.drop(df.index[[range(0,3)]], inplace = True)\n",
    "    \n",
    "    return df "
   ]
  },
  {
   "cell_type": "code",
   "execution_count": 7,
   "metadata": {},
   "outputs": [],
   "source": [
    "def allocateNumbers(df, yr):\n",
    "    \n",
    "    for i in range(0, len(nutrition1)): \n",
    "        df[nutrition1[i]] = df['temp'].apply(lambda x: x.split('... ')[1].split()[i*2+1])\n",
    "        \n",
    "    df['age'] = df[df.columns[0]].apply(lambda x: x.split('... ')[0].rstrip('...'))\n",
    "    df['year'] = [yr]*df.shape[0]\n",
    "    df['income'] = incomebracket\n",
    "    df.drop(['temp'], axis = 1, inplace = True)\n",
    "    \n",
    "    return df"
   ]
  },
  {
   "cell_type": "code",
   "execution_count": 8,
   "metadata": {},
   "outputs": [
    {
     "name": "stderr",
     "output_type": "stream",
     "text": [
      "/Users/dahyekim/opt/anaconda3/lib/python3.7/site-packages/pandas/core/indexes/base.py:3941: FutureWarning: Using a non-tuple sequence for multidimensional indexing is deprecated; use `arr[tuple(seq)]` instead of `arr[seq]`. In the future this will be interpreted as an array index, `arr[np.array(seq)]`, which will result either in an error or a different result.\n",
      "  result = getitem(key)\n",
      "/Users/dahyekim/opt/anaconda3/lib/python3.7/site-packages/pandas/core/indexes/base.py:3941: FutureWarning: Using a non-tuple sequence for multidimensional indexing is deprecated; use `arr[tuple(seq)]` instead of `arr[seq]`. In the future this will be interpreted as an array index, `arr[np.array(seq)]`, which will result either in an error or a different result.\n",
      "  result = getitem(key)\n",
      "/Users/dahyekim/opt/anaconda3/lib/python3.7/site-packages/pandas/core/indexes/base.py:3941: FutureWarning: Using a non-tuple sequence for multidimensional indexing is deprecated; use `arr[tuple(seq)]` instead of `arr[seq]`. In the future this will be interpreted as an array index, `arr[np.array(seq)]`, which will result either in an error or a different result.\n",
      "  result = getitem(key)\n",
      "/Users/dahyekim/opt/anaconda3/lib/python3.7/site-packages/pandas/core/indexes/base.py:3941: FutureWarning: Using a non-tuple sequence for multidimensional indexing is deprecated; use `arr[tuple(seq)]` instead of `arr[seq]`. In the future this will be interpreted as an array index, `arr[np.array(seq)]`, which will result either in an error or a different result.\n",
      "  result = getitem(key)\n",
      "/Users/dahyekim/opt/anaconda3/lib/python3.7/site-packages/pandas/core/indexes/base.py:3941: FutureWarning: Using a non-tuple sequence for multidimensional indexing is deprecated; use `arr[tuple(seq)]` instead of `arr[seq]`. In the future this will be interpreted as an array index, `arr[np.array(seq)]`, which will result either in an error or a different result.\n",
      "  result = getitem(key)\n",
      "/Users/dahyekim/opt/anaconda3/lib/python3.7/site-packages/pandas/core/indexes/base.py:3941: FutureWarning: Using a non-tuple sequence for multidimensional indexing is deprecated; use `arr[tuple(seq)]` instead of `arr[seq]`. In the future this will be interpreted as an array index, `arr[np.array(seq)]`, which will result either in an error or a different result.\n",
      "  result = getitem(key)\n"
     ]
    }
   ],
   "source": [
    "incomeNutrition1 =[]\n",
    "for i in range(3, len(income)): \n",
    "    year = income[i].split('_')[0]+'-'+str(int(income[i].split('_')[0])+1)\n",
    "    dfs = tabula.read_pdf(income[i], pages = 1)\n",
    "    tempdf = reorganising_temp(dfs[0])\n",
    "    tempdf = allocateNumbers(tempdf,year)\n",
    "    incomeNutrition1.append(tempdf)"
   ]
  },
  {
   "cell_type": "code",
   "execution_count": 9,
   "metadata": {},
   "outputs": [],
   "source": [
    "incomeNutrition1 =pd.concat(incomeNutrition1)"
   ]
  },
  {
   "cell_type": "code",
   "execution_count": 10,
   "metadata": {},
   "outputs": [],
   "source": [
    "nutrition2 = ['Cholesterol(mg)', 'retinol (milg)', 'vitaminA (milg)', 'alphacarotene (milg)',\\\n",
    "             'betacarotene (milg)', 'beta-cryptoxanthin (milg)', 'lycopene (milg)', \\\n",
    "             'lutein+zeaxanthin (milg)', 'thiamin(mg)']"
   ]
  },
  {
   "cell_type": "code",
   "execution_count": 11,
   "metadata": {},
   "outputs": [],
   "source": [
    "def reorganising_temp2(df): \n",
    "    df = df.dropna(axis = 1, thresh = 10)\n",
    "    df = df.dropna()\n",
    "    df['temp'] = ['']*df.shape[0]\n",
    "    for i in range(df.shape[1]): \n",
    "        df['temp']+=df[df.columns[i]]\n",
    "    useless = [i for i in range(0,df.shape[1]-1)]\n",
    "    df.drop(df.columns[useless], axis = 1, inplace = True)\n",
    "    df.dropna(inplace = True)\n",
    "    df.temp = df.temp.apply(lambda x: x.replace('(', ' '))\n",
    "    df.temp = df.temp.apply(lambda x: x.replace(')', ' '))\n",
    "    df.temp = df.temp.apply(lambda x: x.replace('*', ' '))\n",
    "    df.drop(df.index[[range(0,3)]], inplace = True)\n",
    "    \n",
    "    return df "
   ]
  },
  {
   "cell_type": "code",
   "execution_count": 12,
   "metadata": {},
   "outputs": [],
   "source": [
    "def allocateNumbers2(df, yr):\n",
    "    \n",
    "    for i in range(0, len(nutrition2)): \n",
    "        df[nutrition2[i]] = df['temp'].apply(lambda x: x.split('... ')[1].split()[i*2])\n",
    "        \n",
    "    df['age'] = df[df.columns[0]].apply(lambda x: x.split('... ')[0].rstrip('...'))\n",
    "    df['year'] = [yr]*df.shape[0]\n",
    "    df['income'] = incomebracket\n",
    "    df.drop(['temp'], axis = 1, inplace = True)\n",
    "    \n",
    "    return df"
   ]
  },
  {
   "cell_type": "code",
   "execution_count": 13,
   "metadata": {},
   "outputs": [
    {
     "name": "stderr",
     "output_type": "stream",
     "text": [
      "/Users/dahyekim/opt/anaconda3/lib/python3.7/site-packages/pandas/core/indexes/base.py:3941: FutureWarning: Using a non-tuple sequence for multidimensional indexing is deprecated; use `arr[tuple(seq)]` instead of `arr[seq]`. In the future this will be interpreted as an array index, `arr[np.array(seq)]`, which will result either in an error or a different result.\n",
      "  result = getitem(key)\n",
      "/Users/dahyekim/opt/anaconda3/lib/python3.7/site-packages/pandas/core/indexes/base.py:3941: FutureWarning: Using a non-tuple sequence for multidimensional indexing is deprecated; use `arr[tuple(seq)]` instead of `arr[seq]`. In the future this will be interpreted as an array index, `arr[np.array(seq)]`, which will result either in an error or a different result.\n",
      "  result = getitem(key)\n",
      "/Users/dahyekim/opt/anaconda3/lib/python3.7/site-packages/pandas/core/indexes/base.py:3941: FutureWarning: Using a non-tuple sequence for multidimensional indexing is deprecated; use `arr[tuple(seq)]` instead of `arr[seq]`. In the future this will be interpreted as an array index, `arr[np.array(seq)]`, which will result either in an error or a different result.\n",
      "  result = getitem(key)\n",
      "/Users/dahyekim/opt/anaconda3/lib/python3.7/site-packages/pandas/core/indexes/base.py:3941: FutureWarning: Using a non-tuple sequence for multidimensional indexing is deprecated; use `arr[tuple(seq)]` instead of `arr[seq]`. In the future this will be interpreted as an array index, `arr[np.array(seq)]`, which will result either in an error or a different result.\n",
      "  result = getitem(key)\n",
      "/Users/dahyekim/opt/anaconda3/lib/python3.7/site-packages/pandas/core/indexes/base.py:3941: FutureWarning: Using a non-tuple sequence for multidimensional indexing is deprecated; use `arr[tuple(seq)]` instead of `arr[seq]`. In the future this will be interpreted as an array index, `arr[np.array(seq)]`, which will result either in an error or a different result.\n",
      "  result = getitem(key)\n",
      "/Users/dahyekim/opt/anaconda3/lib/python3.7/site-packages/pandas/core/indexes/base.py:3941: FutureWarning: Using a non-tuple sequence for multidimensional indexing is deprecated; use `arr[tuple(seq)]` instead of `arr[seq]`. In the future this will be interpreted as an array index, `arr[np.array(seq)]`, which will result either in an error or a different result.\n",
      "  result = getitem(key)\n"
     ]
    }
   ],
   "source": [
    "incomeNutrition2 =[]\n",
    "for i in range(3, len(income)): \n",
    "    year = income[i].split('_')[0]+'-'+str(int(income[i].split('_')[0])+1)\n",
    "    dfs = tabula.read_pdf(income[i], pages = 2)\n",
    "    tempdf = reorganising_temp2(dfs[0])\n",
    "    tempdf = allocateNumbers2(tempdf,year)\n",
    "    incomeNutrition2.append(tempdf)"
   ]
  },
  {
   "cell_type": "code",
   "execution_count": 14,
   "metadata": {},
   "outputs": [],
   "source": [
    "incomeNutrition2 = pd.concat(incomeNutrition2)"
   ]
  },
  {
   "cell_type": "code",
   "execution_count": 15,
   "metadata": {},
   "outputs": [],
   "source": [
    "nutrition3 = ['riboflavin (mg)', 'niacin', 'vitamin B6 (mg)', 'folic acid (milg)', 'food folate (milg)',\\\n",
    "             'folate (DFE) (milg)', 'Choline (mg)', 'vitamin B12 (milg)']"
   ]
  },
  {
   "cell_type": "code",
   "execution_count": 16,
   "metadata": {},
   "outputs": [],
   "source": [
    "def reorganising_temp3(df, ii): \n",
    "    \n",
    "    df['temp'] = ['']*df.shape[0]\n",
    "    df = df.dropna(axis = 1, thresh = 10)\n",
    "    df = df.dropna()\n",
    "\n",
    "    for i in range(df.shape[1]): \n",
    "        df['temp']+=df[df.columns[i]]\n",
    "    useless = [i for i in range(0,df.shape[1]-1)]\n",
    "    df.drop(df.columns[useless], axis = 1, inplace = True)\n",
    "    df.dropna(inplace = True)\n",
    "    df.temp = df.temp.apply(lambda x: x.replace('(', ' '))\n",
    "    df.temp = df.temp.apply(lambda x: x.replace(')', ' '))\n",
    "    df.temp = df.temp.apply(lambda x: x.replace('*', ' '))\n",
    "    \n",
    "    df.drop(df.index[[range(0,3)]], inplace = True)\n",
    "    \n",
    "    return df "
   ]
  },
  {
   "cell_type": "code",
   "execution_count": 17,
   "metadata": {},
   "outputs": [],
   "source": [
    "def allocateNumbers3(df, yr):\n",
    "    \n",
    "    for i in range(0, len(nutrition3)): \n",
    "        df[nutrition3[i]] = df['temp'].apply(lambda x: x.split('... ')[1].split()[i*2])\n",
    "        \n",
    "    df['age'] = df[df.columns[0]].apply(lambda x: x.split('... ')[0].rstrip('...'))\n",
    "    df['year'] = [yr]*df.shape[0]\n",
    "    df['income'] = incomebracket\n",
    "    df.drop(['temp'], axis = 1, inplace = True)\n",
    "\n",
    "    return df"
   ]
  },
  {
   "cell_type": "code",
   "execution_count": 18,
   "metadata": {},
   "outputs": [
    {
     "name": "stderr",
     "output_type": "stream",
     "text": [
      "/Users/dahyekim/opt/anaconda3/lib/python3.7/site-packages/pandas/core/indexes/base.py:3941: FutureWarning: Using a non-tuple sequence for multidimensional indexing is deprecated; use `arr[tuple(seq)]` instead of `arr[seq]`. In the future this will be interpreted as an array index, `arr[np.array(seq)]`, which will result either in an error or a different result.\n",
      "  result = getitem(key)\n",
      "/Users/dahyekim/opt/anaconda3/lib/python3.7/site-packages/pandas/core/indexes/base.py:3941: FutureWarning: Using a non-tuple sequence for multidimensional indexing is deprecated; use `arr[tuple(seq)]` instead of `arr[seq]`. In the future this will be interpreted as an array index, `arr[np.array(seq)]`, which will result either in an error or a different result.\n",
      "  result = getitem(key)\n",
      "/Users/dahyekim/opt/anaconda3/lib/python3.7/site-packages/pandas/core/indexes/base.py:3941: FutureWarning: Using a non-tuple sequence for multidimensional indexing is deprecated; use `arr[tuple(seq)]` instead of `arr[seq]`. In the future this will be interpreted as an array index, `arr[np.array(seq)]`, which will result either in an error or a different result.\n",
      "  result = getitem(key)\n",
      "/Users/dahyekim/opt/anaconda3/lib/python3.7/site-packages/pandas/core/indexes/base.py:3941: FutureWarning: Using a non-tuple sequence for multidimensional indexing is deprecated; use `arr[tuple(seq)]` instead of `arr[seq]`. In the future this will be interpreted as an array index, `arr[np.array(seq)]`, which will result either in an error or a different result.\n",
      "  result = getitem(key)\n",
      "/Users/dahyekim/opt/anaconda3/lib/python3.7/site-packages/pandas/core/indexes/base.py:3941: FutureWarning: Using a non-tuple sequence for multidimensional indexing is deprecated; use `arr[tuple(seq)]` instead of `arr[seq]`. In the future this will be interpreted as an array index, `arr[np.array(seq)]`, which will result either in an error or a different result.\n",
      "  result = getitem(key)\n",
      "/Users/dahyekim/opt/anaconda3/lib/python3.7/site-packages/pandas/core/indexes/base.py:3941: FutureWarning: Using a non-tuple sequence for multidimensional indexing is deprecated; use `arr[tuple(seq)]` instead of `arr[seq]`. In the future this will be interpreted as an array index, `arr[np.array(seq)]`, which will result either in an error or a different result.\n",
      "  result = getitem(key)\n"
     ]
    }
   ],
   "source": [
    "incomeNutrition3 =[]\n",
    "for i in range(3, len(income)): \n",
    "    year = income[i].split('_')[0]+'-'+str(int(income[i].split('_')[0])+1)\n",
    "    dfs = tabula.read_pdf(income[i], pages = 3)\n",
    "    tempdf = reorganising_temp3(dfs[0], i)\n",
    "    tempdf = allocateNumbers3(tempdf,year)\n",
    "    incomeNutrition3.append(tempdf)"
   ]
  },
  {
   "cell_type": "code",
   "execution_count": 19,
   "metadata": {},
   "outputs": [],
   "source": [
    "incomeNutrition3 = pd.concat(incomeNutrition3)"
   ]
  },
  {
   "cell_type": "code",
   "execution_count": 20,
   "metadata": {},
   "outputs": [],
   "source": [
    "nutrition4 = ['vitamin C (mg)', 'vitamin D (milg)', 'vitamin E (mg)', 'added vitamin E (mg)',\\\n",
    "             'vitamin K', 'calcium (mg)', 'phosphorus (mg)', 'magnesium (mg)']\n",
    "nutrition5 = ['iron (mg)', 'zinc (mg)', 'copper (mg)', 'selenium (milg)', 'potassium (mg)',\\\n",
    "             'sodium (mg)', 'caffeine (mg)', 'theobromine (mg)']"
   ]
  },
  {
   "cell_type": "code",
   "execution_count": 21,
   "metadata": {},
   "outputs": [],
   "source": [
    "def allocateNumbers4(df, yr):\n",
    "    \n",
    "    for i in range(0, len(nutrition4)): \n",
    "        df[nutrition4[i]] = df['temp'].apply(lambda x: x.split('... ')[1].split()[i*2])\n",
    "        \n",
    "    df['age'] = df[df.columns[0]].apply(lambda x: x.split('... ')[0].rstrip('...'))\n",
    "    df['year'] = [yr]*df.shape[0]\n",
    "    df['income'] = incomebracket\n",
    "    df.drop(['temp'], axis = 1, inplace = True)\n",
    "    \n",
    "    return df"
   ]
  },
  {
   "cell_type": "code",
   "execution_count": 22,
   "metadata": {},
   "outputs": [],
   "source": [
    "def allocateNumbers5(df, yr):\n",
    "    \n",
    "    for i in range(0, len(nutrition5)): \n",
    "        df[nutrition5[i]] = df['temp'].apply(lambda x: x.split('... ')[1].split()[i*2])\n",
    "        \n",
    "    df['age'] = df[df.columns[0]].apply(lambda x: x.split('... ')[0].rstrip('...'))\n",
    "    df['year'] = [yr]*df.shape[0]\n",
    "    df['income'] = incomebracket\n",
    "    df.drop(['temp'], axis = 1, inplace = True)\n",
    "    \n",
    "    return df"
   ]
  },
  {
   "cell_type": "code",
   "execution_count": 23,
   "metadata": {},
   "outputs": [],
   "source": [
    "def reorganising_temp3(df): \n",
    "    \n",
    "    df['temp'] = ['']*df.shape[0]\n",
    "    df = df.dropna(axis = 1, thresh = 10)\n",
    "    df = df.dropna()\n",
    "    for i in range(df.shape[1]): \n",
    "        df['temp']+=df[df.columns[i]]\n",
    "    useless = [i for i in range(0,df.shape[1]-1)]\n",
    "    df.drop(df.columns[useless], axis = 1, inplace = True)\n",
    "    df.dropna(inplace = True)\n",
    "    df.temp = df.temp.apply(lambda x: x.replace('(', ' '))\n",
    "    df.temp = df.temp.apply(lambda x: x.replace(')', ' '))\n",
    "    df.temp = df.temp.apply(lambda x: x.replace('*', ' '))\n",
    "    df.drop(df.index[[range(0,2)]], inplace = True)\n",
    "    \n",
    "    return df "
   ]
  },
  {
   "cell_type": "code",
   "execution_count": 24,
   "metadata": {},
   "outputs": [
    {
     "name": "stderr",
     "output_type": "stream",
     "text": [
      "/Users/dahyekim/opt/anaconda3/lib/python3.7/site-packages/pandas/core/indexes/base.py:3941: FutureWarning: Using a non-tuple sequence for multidimensional indexing is deprecated; use `arr[tuple(seq)]` instead of `arr[seq]`. In the future this will be interpreted as an array index, `arr[np.array(seq)]`, which will result either in an error or a different result.\n",
      "  result = getitem(key)\n",
      "/Users/dahyekim/opt/anaconda3/lib/python3.7/site-packages/pandas/core/indexes/base.py:3941: FutureWarning: Using a non-tuple sequence for multidimensional indexing is deprecated; use `arr[tuple(seq)]` instead of `arr[seq]`. In the future this will be interpreted as an array index, `arr[np.array(seq)]`, which will result either in an error or a different result.\n",
      "  result = getitem(key)\n",
      "/Users/dahyekim/opt/anaconda3/lib/python3.7/site-packages/pandas/core/indexes/base.py:3941: FutureWarning: Using a non-tuple sequence for multidimensional indexing is deprecated; use `arr[tuple(seq)]` instead of `arr[seq]`. In the future this will be interpreted as an array index, `arr[np.array(seq)]`, which will result either in an error or a different result.\n",
      "  result = getitem(key)\n",
      "/Users/dahyekim/opt/anaconda3/lib/python3.7/site-packages/pandas/core/indexes/base.py:3941: FutureWarning: Using a non-tuple sequence for multidimensional indexing is deprecated; use `arr[tuple(seq)]` instead of `arr[seq]`. In the future this will be interpreted as an array index, `arr[np.array(seq)]`, which will result either in an error or a different result.\n",
      "  result = getitem(key)\n",
      "/Users/dahyekim/opt/anaconda3/lib/python3.7/site-packages/pandas/core/indexes/base.py:3941: FutureWarning: Using a non-tuple sequence for multidimensional indexing is deprecated; use `arr[tuple(seq)]` instead of `arr[seq]`. In the future this will be interpreted as an array index, `arr[np.array(seq)]`, which will result either in an error or a different result.\n",
      "  result = getitem(key)\n",
      "/Users/dahyekim/opt/anaconda3/lib/python3.7/site-packages/pandas/core/indexes/base.py:3941: FutureWarning: Using a non-tuple sequence for multidimensional indexing is deprecated; use `arr[tuple(seq)]` instead of `arr[seq]`. In the future this will be interpreted as an array index, `arr[np.array(seq)]`, which will result either in an error or a different result.\n",
      "  result = getitem(key)\n",
      "/Users/dahyekim/opt/anaconda3/lib/python3.7/site-packages/pandas/core/indexes/base.py:3941: FutureWarning: Using a non-tuple sequence for multidimensional indexing is deprecated; use `arr[tuple(seq)]` instead of `arr[seq]`. In the future this will be interpreted as an array index, `arr[np.array(seq)]`, which will result either in an error or a different result.\n",
      "  result = getitem(key)\n",
      "/Users/dahyekim/opt/anaconda3/lib/python3.7/site-packages/pandas/core/indexes/base.py:3941: FutureWarning: Using a non-tuple sequence for multidimensional indexing is deprecated; use `arr[tuple(seq)]` instead of `arr[seq]`. In the future this will be interpreted as an array index, `arr[np.array(seq)]`, which will result either in an error or a different result.\n",
      "  result = getitem(key)\n",
      "/Users/dahyekim/opt/anaconda3/lib/python3.7/site-packages/pandas/core/indexes/base.py:3941: FutureWarning: Using a non-tuple sequence for multidimensional indexing is deprecated; use `arr[tuple(seq)]` instead of `arr[seq]`. In the future this will be interpreted as an array index, `arr[np.array(seq)]`, which will result either in an error or a different result.\n",
      "  result = getitem(key)\n",
      "/Users/dahyekim/opt/anaconda3/lib/python3.7/site-packages/pandas/core/indexes/base.py:3941: FutureWarning: Using a non-tuple sequence for multidimensional indexing is deprecated; use `arr[tuple(seq)]` instead of `arr[seq]`. In the future this will be interpreted as an array index, `arr[np.array(seq)]`, which will result either in an error or a different result.\n",
      "  result = getitem(key)\n",
      "/Users/dahyekim/opt/anaconda3/lib/python3.7/site-packages/pandas/core/indexes/base.py:3941: FutureWarning: Using a non-tuple sequence for multidimensional indexing is deprecated; use `arr[tuple(seq)]` instead of `arr[seq]`. In the future this will be interpreted as an array index, `arr[np.array(seq)]`, which will result either in an error or a different result.\n",
      "  result = getitem(key)\n",
      "/Users/dahyekim/opt/anaconda3/lib/python3.7/site-packages/pandas/core/indexes/base.py:3941: FutureWarning: Using a non-tuple sequence for multidimensional indexing is deprecated; use `arr[tuple(seq)]` instead of `arr[seq]`. In the future this will be interpreted as an array index, `arr[np.array(seq)]`, which will result either in an error or a different result.\n",
      "  result = getitem(key)\n"
     ]
    }
   ],
   "source": [
    "incomeNutrition4 =[]\n",
    "for i in range(3, len(income)): \n",
    "    year = income[i].split('_')[0]+'-'+str(int(income[i].split('_')[0])+1)\n",
    "    dfs = tabula.read_pdf(income[i], pages = 4)\n",
    "    tempdf = reorganising_temp3(dfs[0])\n",
    "    tempdf = allocateNumbers4(tempdf,year)\n",
    "    incomeNutrition4.append(tempdf)\n",
    "    \n",
    "incomeNutrition5 =[]\n",
    "for i in range(3, len(income)): \n",
    "    year = income[i].split('_')[0]+'-'+str(int(income[i].split('_')[0])+1)\n",
    "    dfs = tabula.read_pdf(income[i], pages = 5)\n",
    "    tempdf = reorganising_temp3(dfs[0])\n",
    "    tempdf = allocateNumbers5(tempdf,year)\n",
    "    incomeNutrition5.append(tempdf)"
   ]
  },
  {
   "cell_type": "code",
   "execution_count": 25,
   "metadata": {},
   "outputs": [],
   "source": [
    "incomeNutrition4 = pd.concat(incomeNutrition4)\n",
    "incomeNutrition5 = pd.concat(incomeNutrition5)"
   ]
  },
  {
   "cell_type": "code",
   "execution_count": 26,
   "metadata": {},
   "outputs": [],
   "source": [
    "lst = [incomeNutrition1,incomeNutrition2,incomeNutrition3,incomeNutrition4,incomeNutrition5]"
   ]
  },
  {
   "cell_type": "code",
   "execution_count": 27,
   "metadata": {},
   "outputs": [],
   "source": [
    "a=pd.merge(lst[0],lst[1], on = ['year','age','income'])\n",
    "b=pd.merge(lst[2],lst[3], on =['year','age','income'])\n",
    "c = pd.merge(a,lst[4], on =['year','age','income'])\n",
    "finalTB = pd.merge(b,c, on =['year','age','income'])"
   ]
  },
  {
   "cell_type": "code",
   "execution_count": 28,
   "metadata": {},
   "outputs": [],
   "source": [
    "finalTB.to_csv('US_Nutrtion_income.csv', index = False)"
   ]
  }
 ],
 "metadata": {
  "kernelspec": {
   "display_name": "Python 3",
   "language": "python",
   "name": "python3"
  },
  "language_info": {
   "codemirror_mode": {
    "name": "ipython",
    "version": 3
   },
   "file_extension": ".py",
   "mimetype": "text/x-python",
   "name": "python",
   "nbconvert_exporter": "python",
   "pygments_lexer": "ipython3",
   "version": "3.7.6"
  }
 },
 "nbformat": 4,
 "nbformat_minor": 4
}
